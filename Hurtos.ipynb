{
 "metadata": {
  "language_info": {
   "codemirror_mode": {
    "name": "ipython",
    "version": 3
   },
   "file_extension": ".py",
   "mimetype": "text/x-python",
   "name": "python",
   "nbconvert_exporter": "python",
   "pygments_lexer": "ipython3",
   "version": "3.8.5-final"
  },
  "orig_nbformat": 2,
  "kernelspec": {
   "name": "python_defaultSpec_1600384448762",
   "display_name": "Python 3.8.5 64-bit ('spike-tradedesk': conda)"
  }
 },
 "nbformat": 4,
 "nbformat_minor": 2,
 "cells": [
  {
   "cell_type": "code",
   "execution_count": 5,
   "metadata": {
    "tags": []
   },
   "outputs": [
    {
     "output_type": "stream",
     "name": "stdout",
     "text": "Requirement already satisfied: pandas in /Users/omalagonm/opt/anaconda3/envs/spike-tradedesk/lib/python3.8/site-packages (1.1.2)\nRequirement already satisfied: pytz>=2017.2 in /Users/omalagonm/opt/anaconda3/envs/spike-tradedesk/lib/python3.8/site-packages (from pandas) (2020.1)\nRequirement already satisfied: numpy>=1.15.4 in /Users/omalagonm/opt/anaconda3/envs/spike-tradedesk/lib/python3.8/site-packages (from pandas) (1.19.1)\nRequirement already satisfied: python-dateutil>=2.7.3 in /Users/omalagonm/opt/anaconda3/envs/spike-tradedesk/lib/python3.8/site-packages (from pandas) (2.8.1)\nRequirement already satisfied: six>=1.5 in /Users/omalagonm/opt/anaconda3/envs/spike-tradedesk/lib/python3.8/site-packages (from python-dateutil>=2.7.3->pandas) (1.15.0)\nCollecting xlrd\n  Downloading xlrd-1.2.0-py2.py3-none-any.whl (103 kB)\n\u001b[K     |████████████████████████████████| 103 kB 174 kB/s \n\u001b[?25hInstalling collected packages: xlrd\nSuccessfully installed xlrd-1.2.0\nRequirement already satisfied: pandas-profiling==2.8.0 in /Users/omalagonm/opt/anaconda3/envs/spike-tradedesk/lib/python3.8/site-packages (2.8.0)\nRequirement already satisfied: matplotlib>=3.2.0 in /Users/omalagonm/opt/anaconda3/envs/spike-tradedesk/lib/python3.8/site-packages (from pandas-profiling==2.8.0) (3.3.1)\nRequirement already satisfied: tqdm>=4.43.0 in /Users/omalagonm/opt/anaconda3/envs/spike-tradedesk/lib/python3.8/site-packages (from pandas-profiling==2.8.0) (4.49.0)\nRequirement already satisfied: astropy>=4.0 in /Users/omalagonm/opt/anaconda3/envs/spike-tradedesk/lib/python3.8/site-packages (from pandas-profiling==2.8.0) (4.0.1.post1)\nRequirement already satisfied: confuse>=1.0.0 in /Users/omalagonm/opt/anaconda3/envs/spike-tradedesk/lib/python3.8/site-packages (from pandas-profiling==2.8.0) (1.3.0)\nRequirement already satisfied: missingno>=0.4.2 in /Users/omalagonm/opt/anaconda3/envs/spike-tradedesk/lib/python3.8/site-packages (from pandas-profiling==2.8.0) (0.4.2)\nRequirement already satisfied: jinja2>=2.11.1 in /Users/omalagonm/opt/anaconda3/envs/spike-tradedesk/lib/python3.8/site-packages (from pandas-profiling==2.8.0) (2.11.2)\nRequirement already satisfied: htmlmin>=0.1.12 in /Users/omalagonm/opt/anaconda3/envs/spike-tradedesk/lib/python3.8/site-packages (from pandas-profiling==2.8.0) (0.1.12)\nRequirement already satisfied: pandas!=1.0.0,!=1.0.1,!=1.0.2,>=0.25.3 in /Users/omalagonm/opt/anaconda3/envs/spike-tradedesk/lib/python3.8/site-packages (from pandas-profiling==2.8.0) (1.1.2)\nRequirement already satisfied: tangled-up-in-unicode>=0.0.6 in /Users/omalagonm/opt/anaconda3/envs/spike-tradedesk/lib/python3.8/site-packages (from pandas-profiling==2.8.0) (0.0.6)\nRequirement already satisfied: numpy>=1.16.0 in /Users/omalagonm/opt/anaconda3/envs/spike-tradedesk/lib/python3.8/site-packages (from pandas-profiling==2.8.0) (1.19.1)\nRequirement already satisfied: requests>=2.23.0 in /Users/omalagonm/opt/anaconda3/envs/spike-tradedesk/lib/python3.8/site-packages (from pandas-profiling==2.8.0) (2.24.0)\nRequirement already satisfied: visions[type_image_path]==0.4.4 in /Users/omalagonm/opt/anaconda3/envs/spike-tradedesk/lib/python3.8/site-packages (from pandas-profiling==2.8.0) (0.4.4)\nRequirement already satisfied: phik>=0.9.10 in /Users/omalagonm/opt/anaconda3/envs/spike-tradedesk/lib/python3.8/site-packages (from pandas-profiling==2.8.0) (0.10.0)\nRequirement already satisfied: scipy>=1.4.1 in /Users/omalagonm/opt/anaconda3/envs/spike-tradedesk/lib/python3.8/site-packages (from pandas-profiling==2.8.0) (1.5.0)\nRequirement already satisfied: joblib in /Users/omalagonm/opt/anaconda3/envs/spike-tradedesk/lib/python3.8/site-packages (from pandas-profiling==2.8.0) (0.16.0)\nRequirement already satisfied: ipywidgets>=7.5.1 in /Users/omalagonm/opt/anaconda3/envs/spike-tradedesk/lib/python3.8/site-packages (from pandas-profiling==2.8.0) (7.5.1)\nRequirement already satisfied: pyparsing!=2.0.4,!=2.1.2,!=2.1.6,>=2.0.3 in /Users/omalagonm/opt/anaconda3/envs/spike-tradedesk/lib/python3.8/site-packages (from matplotlib>=3.2.0->pandas-profiling==2.8.0) (2.4.7)\nRequirement already satisfied: certifi>=2020.06.20 in /Users/omalagonm/opt/anaconda3/envs/spike-tradedesk/lib/python3.8/site-packages (from matplotlib>=3.2.0->pandas-profiling==2.8.0) (2020.6.20)\nRequirement already satisfied: kiwisolver>=1.0.1 in /Users/omalagonm/opt/anaconda3/envs/spike-tradedesk/lib/python3.8/site-packages (from matplotlib>=3.2.0->pandas-profiling==2.8.0) (1.2.0)\nRequirement already satisfied: pillow>=6.2.0 in /Users/omalagonm/opt/anaconda3/envs/spike-tradedesk/lib/python3.8/site-packages (from matplotlib>=3.2.0->pandas-profiling==2.8.0) (7.2.0)\nRequirement already satisfied: python-dateutil>=2.1 in /Users/omalagonm/opt/anaconda3/envs/spike-tradedesk/lib/python3.8/site-packages (from matplotlib>=3.2.0->pandas-profiling==2.8.0) (2.8.1)\nRequirement already satisfied: cycler>=0.10 in /Users/omalagonm/opt/anaconda3/envs/spike-tradedesk/lib/python3.8/site-packages (from matplotlib>=3.2.0->pandas-profiling==2.8.0) (0.10.0)\nRequirement already satisfied: pyyaml in /Users/omalagonm/opt/anaconda3/envs/spike-tradedesk/lib/python3.8/site-packages (from confuse>=1.0.0->pandas-profiling==2.8.0) (5.3.1)\nRequirement already satisfied: seaborn in /Users/omalagonm/opt/anaconda3/envs/spike-tradedesk/lib/python3.8/site-packages (from missingno>=0.4.2->pandas-profiling==2.8.0) (0.11.0)\nRequirement already satisfied: MarkupSafe>=0.23 in /Users/omalagonm/opt/anaconda3/envs/spike-tradedesk/lib/python3.8/site-packages (from jinja2>=2.11.1->pandas-profiling==2.8.0) (1.1.1)\nRequirement already satisfied: pytz>=2017.2 in /Users/omalagonm/opt/anaconda3/envs/spike-tradedesk/lib/python3.8/site-packages (from pandas!=1.0.0,!=1.0.1,!=1.0.2,>=0.25.3->pandas-profiling==2.8.0) (2020.1)\nRequirement already satisfied: idna<3,>=2.5 in /Users/omalagonm/opt/anaconda3/envs/spike-tradedesk/lib/python3.8/site-packages (from requests>=2.23.0->pandas-profiling==2.8.0) (2.10)\nRequirement already satisfied: chardet<4,>=3.0.2 in /Users/omalagonm/opt/anaconda3/envs/spike-tradedesk/lib/python3.8/site-packages (from requests>=2.23.0->pandas-profiling==2.8.0) (3.0.4)\nRequirement already satisfied: urllib3!=1.25.0,!=1.25.1,<1.26,>=1.21.1 in /Users/omalagonm/opt/anaconda3/envs/spike-tradedesk/lib/python3.8/site-packages (from requests>=2.23.0->pandas-profiling==2.8.0) (1.25.10)\nRequirement already satisfied: attrs>=19.3.0 in /Users/omalagonm/opt/anaconda3/envs/spike-tradedesk/lib/python3.8/site-packages (from visions[type_image_path]==0.4.4->pandas-profiling==2.8.0) (20.2.0)\nRequirement already satisfied: networkx>=2.4 in /Users/omalagonm/opt/anaconda3/envs/spike-tradedesk/lib/python3.8/site-packages (from visions[type_image_path]==0.4.4->pandas-profiling==2.8.0) (2.5)\nRequirement already satisfied: imagehash; extra == \"type_image_path\" in /Users/omalagonm/opt/anaconda3/envs/spike-tradedesk/lib/python3.8/site-packages (from visions[type_image_path]==0.4.4->pandas-profiling==2.8.0) (4.1.0)\nRequirement already satisfied: numba>=0.38.1 in /Users/omalagonm/opt/anaconda3/envs/spike-tradedesk/lib/python3.8/site-packages (from phik>=0.9.10->pandas-profiling==2.8.0) (0.51.2)\nRequirement already satisfied: widgetsnbextension~=3.5.0 in /Users/omalagonm/opt/anaconda3/envs/spike-tradedesk/lib/python3.8/site-packages (from ipywidgets>=7.5.1->pandas-profiling==2.8.0) (3.5.1)\nRequirement already satisfied: ipython>=4.0.0; python_version >= \"3.3\" in /Users/omalagonm/opt/anaconda3/envs/spike-tradedesk/lib/python3.8/site-packages (from ipywidgets>=7.5.1->pandas-profiling==2.8.0) (7.18.1)\nRequirement already satisfied: ipykernel>=4.5.1 in /Users/omalagonm/opt/anaconda3/envs/spike-tradedesk/lib/python3.8/site-packages (from ipywidgets>=7.5.1->pandas-profiling==2.8.0) (5.3.4)\nRequirement already satisfied: traitlets>=4.3.1 in /Users/omalagonm/opt/anaconda3/envs/spike-tradedesk/lib/python3.8/site-packages (from ipywidgets>=7.5.1->pandas-profiling==2.8.0) (4.3.3)\nRequirement already satisfied: nbformat>=4.2.0 in /Users/omalagonm/opt/anaconda3/envs/spike-tradedesk/lib/python3.8/site-packages (from ipywidgets>=7.5.1->pandas-profiling==2.8.0) (5.0.7)\nRequirement already satisfied: six>=1.5 in /Users/omalagonm/opt/anaconda3/envs/spike-tradedesk/lib/python3.8/site-packages (from python-dateutil>=2.1->matplotlib>=3.2.0->pandas-profiling==2.8.0) (1.15.0)\nRequirement already satisfied: decorator>=4.3.0 in /Users/omalagonm/opt/anaconda3/envs/spike-tradedesk/lib/python3.8/site-packages (from networkx>=2.4->visions[type_image_path]==0.4.4->pandas-profiling==2.8.0) (4.4.2)\nRequirement already satisfied: PyWavelets in /Users/omalagonm/opt/anaconda3/envs/spike-tradedesk/lib/python3.8/site-packages (from imagehash; extra == \"type_image_path\"->visions[type_image_path]==0.4.4->pandas-profiling==2.8.0) (1.1.1)\nRequirement already satisfied: llvmlite<0.35,>=0.34.0.dev0 in /Users/omalagonm/opt/anaconda3/envs/spike-tradedesk/lib/python3.8/site-packages (from numba>=0.38.1->phik>=0.9.10->pandas-profiling==2.8.0) (0.34.0)\nRequirement already satisfied: setuptools in /Users/omalagonm/opt/anaconda3/envs/spike-tradedesk/lib/python3.8/site-packages (from numba>=0.38.1->phik>=0.9.10->pandas-profiling==2.8.0) (49.6.0.post20200814)\nRequirement already satisfied: notebook>=4.4.1 in /Users/omalagonm/opt/anaconda3/envs/spike-tradedesk/lib/python3.8/site-packages (from widgetsnbextension~=3.5.0->ipywidgets>=7.5.1->pandas-profiling==2.8.0) (6.1.4)\nRequirement already satisfied: pexpect>4.3; sys_platform != \"win32\" in /Users/omalagonm/opt/anaconda3/envs/spike-tradedesk/lib/python3.8/site-packages (from ipython>=4.0.0; python_version >= \"3.3\"->ipywidgets>=7.5.1->pandas-profiling==2.8.0) (4.8.0)\nRequirement already satisfied: pygments in /Users/omalagonm/opt/anaconda3/envs/spike-tradedesk/lib/python3.8/site-packages (from ipython>=4.0.0; python_version >= \"3.3\"->ipywidgets>=7.5.1->pandas-profiling==2.8.0) (2.7.0)\nRequirement already satisfied: appnope; sys_platform == \"darwin\" in /Users/omalagonm/opt/anaconda3/envs/spike-tradedesk/lib/python3.8/site-packages (from ipython>=4.0.0; python_version >= \"3.3\"->ipywidgets>=7.5.1->pandas-profiling==2.8.0) (0.1.0)\nRequirement already satisfied: jedi>=0.10 in /Users/omalagonm/opt/anaconda3/envs/spike-tradedesk/lib/python3.8/site-packages (from ipython>=4.0.0; python_version >= \"3.3\"->ipywidgets>=7.5.1->pandas-profiling==2.8.0) (0.17.2)\nRequirement already satisfied: backcall in /Users/omalagonm/opt/anaconda3/envs/spike-tradedesk/lib/python3.8/site-packages (from ipython>=4.0.0; python_version >= \"3.3\"->ipywidgets>=7.5.1->pandas-profiling==2.8.0) (0.2.0)\nRequirement already satisfied: pickleshare in /Users/omalagonm/opt/anaconda3/envs/spike-tradedesk/lib/python3.8/site-packages (from ipython>=4.0.0; python_version >= \"3.3\"->ipywidgets>=7.5.1->pandas-profiling==2.8.0) (0.7.5)\nRequirement already satisfied: prompt-toolkit!=3.0.0,!=3.0.1,<3.1.0,>=2.0.0 in /Users/omalagonm/opt/anaconda3/envs/spike-tradedesk/lib/python3.8/site-packages (from ipython>=4.0.0; python_version >= \"3.3\"->ipywidgets>=7.5.1->pandas-profiling==2.8.0) (3.0.7)\nRequirement already satisfied: jupyter-client in /Users/omalagonm/opt/anaconda3/envs/spike-tradedesk/lib/python3.8/site-packages (from ipykernel>=4.5.1->ipywidgets>=7.5.1->pandas-profiling==2.8.0) (6.1.6)\nRequirement already satisfied: tornado>=4.2 in /Users/omalagonm/opt/anaconda3/envs/spike-tradedesk/lib/python3.8/site-packages (from ipykernel>=4.5.1->ipywidgets>=7.5.1->pandas-profiling==2.8.0) (6.0.4)\nRequirement already satisfied: ipython-genutils in /Users/omalagonm/opt/anaconda3/envs/spike-tradedesk/lib/python3.8/site-packages (from traitlets>=4.3.1->ipywidgets>=7.5.1->pandas-profiling==2.8.0) (0.2.0)\nRequirement already satisfied: jupyter-core in /Users/omalagonm/opt/anaconda3/envs/spike-tradedesk/lib/python3.8/site-packages (from nbformat>=4.2.0->ipywidgets>=7.5.1->pandas-profiling==2.8.0) (4.6.3)\nRequirement already satisfied: jsonschema!=2.5.0,>=2.4 in /Users/omalagonm/opt/anaconda3/envs/spike-tradedesk/lib/python3.8/site-packages (from nbformat>=4.2.0->ipywidgets>=7.5.1->pandas-profiling==2.8.0) (3.2.0)\nRequirement already satisfied: prometheus-client in /Users/omalagonm/opt/anaconda3/envs/spike-tradedesk/lib/python3.8/site-packages (from notebook>=4.4.1->widgetsnbextension~=3.5.0->ipywidgets>=7.5.1->pandas-profiling==2.8.0) (0.8.0)\nRequirement already satisfied: pyzmq>=17 in /Users/omalagonm/opt/anaconda3/envs/spike-tradedesk/lib/python3.8/site-packages (from notebook>=4.4.1->widgetsnbextension~=3.5.0->ipywidgets>=7.5.1->pandas-profiling==2.8.0) (19.0.1)\nRequirement already satisfied: nbconvert in /Users/omalagonm/opt/anaconda3/envs/spike-tradedesk/lib/python3.8/site-packages (from notebook>=4.4.1->widgetsnbextension~=3.5.0->ipywidgets>=7.5.1->pandas-profiling==2.8.0) (6.0.3)\nRequirement already satisfied: Send2Trash in /Users/omalagonm/opt/anaconda3/envs/spike-tradedesk/lib/python3.8/site-packages (from notebook>=4.4.1->widgetsnbextension~=3.5.0->ipywidgets>=7.5.1->pandas-profiling==2.8.0) (1.5.0)\nRequirement already satisfied: terminado>=0.8.3 in /Users/omalagonm/opt/anaconda3/envs/spike-tradedesk/lib/python3.8/site-packages (from notebook>=4.4.1->widgetsnbextension~=3.5.0->ipywidgets>=7.5.1->pandas-profiling==2.8.0) (0.8.3)\nRequirement already satisfied: argon2-cffi in /Users/omalagonm/opt/anaconda3/envs/spike-tradedesk/lib/python3.8/site-packages (from notebook>=4.4.1->widgetsnbextension~=3.5.0->ipywidgets>=7.5.1->pandas-profiling==2.8.0) (20.1.0)\nRequirement already satisfied: ptyprocess>=0.5 in /Users/omalagonm/opt/anaconda3/envs/spike-tradedesk/lib/python3.8/site-packages (from pexpect>4.3; sys_platform != \"win32\"->ipython>=4.0.0; python_version >= \"3.3\"->ipywidgets>=7.5.1->pandas-profiling==2.8.0) (0.6.0)\nRequirement already satisfied: parso<0.8.0,>=0.7.0 in /Users/omalagonm/opt/anaconda3/envs/spike-tradedesk/lib/python3.8/site-packages (from jedi>=0.10->ipython>=4.0.0; python_version >= \"3.3\"->ipywidgets>=7.5.1->pandas-profiling==2.8.0) (0.7.0)\nRequirement already satisfied: wcwidth in /Users/omalagonm/opt/anaconda3/envs/spike-tradedesk/lib/python3.8/site-packages (from prompt-toolkit!=3.0.0,!=3.0.1,<3.1.0,>=2.0.0->ipython>=4.0.0; python_version >= \"3.3\"->ipywidgets>=7.5.1->pandas-profiling==2.8.0) (0.2.5)\nRequirement already satisfied: pyrsistent>=0.14.0 in /Users/omalagonm/opt/anaconda3/envs/spike-tradedesk/lib/python3.8/site-packages (from jsonschema!=2.5.0,>=2.4->nbformat>=4.2.0->ipywidgets>=7.5.1->pandas-profiling==2.8.0) (0.17.3)\nRequirement already satisfied: nbclient<0.6.0,>=0.5.0 in /Users/omalagonm/opt/anaconda3/envs/spike-tradedesk/lib/python3.8/site-packages (from nbconvert->notebook>=4.4.1->widgetsnbextension~=3.5.0->ipywidgets>=7.5.1->pandas-profiling==2.8.0) (0.5.0)\nRequirement already satisfied: testpath in /Users/omalagonm/opt/anaconda3/envs/spike-tradedesk/lib/python3.8/site-packages (from nbconvert->notebook>=4.4.1->widgetsnbextension~=3.5.0->ipywidgets>=7.5.1->pandas-profiling==2.8.0) (0.4.4)\nRequirement already satisfied: defusedxml in /Users/omalagonm/opt/anaconda3/envs/spike-tradedesk/lib/python3.8/site-packages (from nbconvert->notebook>=4.4.1->widgetsnbextension~=3.5.0->ipywidgets>=7.5.1->pandas-profiling==2.8.0) (0.6.0)\nRequirement already satisfied: pandocfilters>=1.4.1 in /Users/omalagonm/opt/anaconda3/envs/spike-tradedesk/lib/python3.8/site-packages (from nbconvert->notebook>=4.4.1->widgetsnbextension~=3.5.0->ipywidgets>=7.5.1->pandas-profiling==2.8.0) (1.4.2)\nRequirement already satisfied: entrypoints>=0.2.2 in /Users/omalagonm/opt/anaconda3/envs/spike-tradedesk/lib/python3.8/site-packages (from nbconvert->notebook>=4.4.1->widgetsnbextension~=3.5.0->ipywidgets>=7.5.1->pandas-profiling==2.8.0) (0.3)\nRequirement already satisfied: jupyterlab-pygments in /Users/omalagonm/opt/anaconda3/envs/spike-tradedesk/lib/python3.8/site-packages (from nbconvert->notebook>=4.4.1->widgetsnbextension~=3.5.0->ipywidgets>=7.5.1->pandas-profiling==2.8.0) (0.1.1)\nRequirement already satisfied: bleach in /Users/omalagonm/opt/anaconda3/envs/spike-tradedesk/lib/python3.8/site-packages (from nbconvert->notebook>=4.4.1->widgetsnbextension~=3.5.0->ipywidgets>=7.5.1->pandas-profiling==2.8.0) (3.2.0)\nRequirement already satisfied: mistune<2,>=0.8.1 in /Users/omalagonm/opt/anaconda3/envs/spike-tradedesk/lib/python3.8/site-packages (from nbconvert->notebook>=4.4.1->widgetsnbextension~=3.5.0->ipywidgets>=7.5.1->pandas-profiling==2.8.0) (0.8.4)\nRequirement already satisfied: cffi>=1.0.0 in /Users/omalagonm/opt/anaconda3/envs/spike-tradedesk/lib/python3.8/site-packages (from argon2-cffi->notebook>=4.4.1->widgetsnbextension~=3.5.0->ipywidgets>=7.5.1->pandas-profiling==2.8.0) (1.14.2)\nRequirement already satisfied: nest-asyncio in /Users/omalagonm/opt/anaconda3/envs/spike-tradedesk/lib/python3.8/site-packages (from nbclient<0.6.0,>=0.5.0->nbconvert->notebook>=4.4.1->widgetsnbextension~=3.5.0->ipywidgets>=7.5.1->pandas-profiling==2.8.0) (1.4.0)\nRequirement already satisfied: async-generator in /Users/omalagonm/opt/anaconda3/envs/spike-tradedesk/lib/python3.8/site-packages (from nbclient<0.6.0,>=0.5.0->nbconvert->notebook>=4.4.1->widgetsnbextension~=3.5.0->ipywidgets>=7.5.1->pandas-profiling==2.8.0) (1.10)\nRequirement already satisfied: packaging in /Users/omalagonm/opt/anaconda3/envs/spike-tradedesk/lib/python3.8/site-packages (from bleach->nbconvert->notebook>=4.4.1->widgetsnbextension~=3.5.0->ipywidgets>=7.5.1->pandas-profiling==2.8.0) (20.4)\nRequirement already satisfied: webencodings in /Users/omalagonm/opt/anaconda3/envs/spike-tradedesk/lib/python3.8/site-packages (from bleach->nbconvert->notebook>=4.4.1->widgetsnbextension~=3.5.0->ipywidgets>=7.5.1->pandas-profiling==2.8.0) (0.5.1)\nRequirement already satisfied: pycparser in /Users/omalagonm/opt/anaconda3/envs/spike-tradedesk/lib/python3.8/site-packages (from cffi>=1.0.0->argon2-cffi->notebook>=4.4.1->widgetsnbextension~=3.5.0->ipywidgets>=7.5.1->pandas-profiling==2.8.0) (2.20)\n"
    }
   ],
   "source": [
    "!pip install pandas\n",
    "!pip install xlrd\n",
    "!pip install 'pandas-profiling==2.8.0'"
   ]
  },
  {
   "cell_type": "code",
   "execution_count": 83,
   "metadata": {},
   "outputs": [],
   "source": [
    "import pandas as pd\n",
    "from pandas_profiling import ProfileReport"
   ]
  },
  {
   "cell_type": "code",
   "execution_count": 133,
   "metadata": {},
   "outputs": [],
   "source": [
    "df_hurtos = pd.concat([\n",
    "    pd.read_excel('data/hurto-de-automotores-2017_0.xls', skiprows=9),\n",
    "    pd.read_excel('data/hurto-de-automotores-2018_0.xls', skiprows=8),\n",
    "    pd.read_excel('data/hurto-de-automotores-2018_1.xls', skiprows=9),\n",
    "    pd.read_excel('data/hurto-de-automotores-2019_0.xls', skiprows=8)\n",
    "])"
   ]
  },
  {
   "cell_type": "markdown",
   "metadata": {},
   "source": [
    "# Limpieza"
   ]
  },
  {
   "cell_type": "code",
   "execution_count": 134,
   "metadata": {},
   "outputs": [],
   "source": [
    "# Correción de valores de edad y cantidad. \n",
    "# Edad -1 representa que no se conoce la edad del individuo\n",
    "# Cantidad 1000 se borra en un paso posterior.\n",
    "df_hurtos['Edad'] = df_hurtos['Edad'].fillna('-1')\n",
    "df_hurtos['Edad'] = df_hurtos['Edad'].astype(str)\n",
    "df_hurtos = df_hurtos[df_hurtos['Edad'] != '-']\n",
    "df_hurtos['Cantidad'] = df_hurtos['Cantidad'].fillna(1000)\n",
    "\n",
    "# Corrección de tipos.\n",
    "cols_str = [\n",
    "    'Fecha','Hora', 'Departamento', 'Municipio', 'Día', 'Barrio', 'Zona', 'Clase de sitio', \n",
    "    'Arma empleada', 'Móvil Agresor', 'Móvil Victima', 'Sexo', 'Estado civil' ,\n",
    "    'País de nacimiento','Clase de empleado', 'Profesión', 'Escolaridad', 'Código DANE', 'CLASE',\n",
    "    'MARCA', 'LINEA', 'MODELO', 'COLOR']\n",
    "cols_int = ['Edad', 'Cantidad']\n",
    "for col in cols_str:\n",
    "    df_hurtos[col] = df_hurtos[col].astype(str)\n",
    "\n",
    "for col in cols_int:\n",
    "    df_hurtos[col] = df_hurtos[col].astype('int64')\n",
    "\n",
    "# Remoción de duplicados\n",
    "df_hurtos.drop_duplicates(inplace=True)\n",
    "\n",
    "# Remoción de valores atípicos. \n",
    "# 1. Cantidad de vehículos robados con valores mayores 61 y >= 7905, que representan menos del 1% de los datos\n",
    "df_hurtos = df_hurtos[df_hurtos['Cantidad'] < 60]\n",
    "# 2. Registros con edad mayor a 110\n",
    "df_hurtos = df_hurtos[df_hurtos['Edad'] < 110]\n",
    "# 3.Remoción de registros que tienen más de 20 valores iguales a NA, estos corresponden a las últimas filas que se leen\n",
    "df_hurtos.dropna(thresh=10, inplace=True)"
   ]
  },
  {
   "cell_type": "code",
   "execution_count": 147,
   "metadata": {
    "tags": []
   },
   "outputs": [
    {
     "output_type": "stream",
     "name": "stderr",
     "text": "Summarize dataset: 100%|██████████| 40/40 [00:09<00:00,  4.42it/s, Completed]\nGenerate report structure: 100%|██████████| 1/1 [00:07<00:00,  7.56s/it]\nRender HTML: 100%|██████████| 1/1 [00:00<00:00,  1.86it/s]\nExport report to file: 100%|██████████| 1/1 [00:00<00:00, 334.13it/s]\n"
    }
   ],
   "source": [
    "report = ProfileReport(df_hurtos)\n",
    "report.to_file('Perfilamiento de hurto a vehículos.html')"
   ]
  },
  {
   "cell_type": "code",
   "execution_count": 144,
   "metadata": {},
   "outputs": [
    {
     "output_type": "execute_result",
     "data": {
      "text/plain": "               Edad      Cantidad\ncount  36546.000000  36546.000000\nmean      40.620424      1.001067\nstd       12.642416      0.057054\nmin        0.000000      1.000000\n25%       31.000000      1.000000\n50%       38.000000      1.000000\n75%       49.000000      1.000000\nmax       99.000000      9.000000",
      "text/html": "<div>\n<style scoped>\n    .dataframe tbody tr th:only-of-type {\n        vertical-align: middle;\n    }\n\n    .dataframe tbody tr th {\n        vertical-align: top;\n    }\n\n    .dataframe thead th {\n        text-align: right;\n    }\n</style>\n<table border=\"1\" class=\"dataframe\">\n  <thead>\n    <tr style=\"text-align: right;\">\n      <th></th>\n      <th>Edad</th>\n      <th>Cantidad</th>\n    </tr>\n  </thead>\n  <tbody>\n    <tr>\n      <th>count</th>\n      <td>36546.000000</td>\n      <td>36546.000000</td>\n    </tr>\n    <tr>\n      <th>mean</th>\n      <td>40.620424</td>\n      <td>1.001067</td>\n    </tr>\n    <tr>\n      <th>std</th>\n      <td>12.642416</td>\n      <td>0.057054</td>\n    </tr>\n    <tr>\n      <th>min</th>\n      <td>0.000000</td>\n      <td>1.000000</td>\n    </tr>\n    <tr>\n      <th>25%</th>\n      <td>31.000000</td>\n      <td>1.000000</td>\n    </tr>\n    <tr>\n      <th>50%</th>\n      <td>38.000000</td>\n      <td>1.000000</td>\n    </tr>\n    <tr>\n      <th>75%</th>\n      <td>49.000000</td>\n      <td>1.000000</td>\n    </tr>\n    <tr>\n      <th>max</th>\n      <td>99.000000</td>\n      <td>9.000000</td>\n    </tr>\n  </tbody>\n</table>\n</div>"
     },
     "metadata": {},
     "execution_count": 144
    }
   ],
   "source": [
    "df_hurtos.describe()"
   ]
  },
  {
   "cell_type": "markdown",
   "metadata": {},
   "source": [
    "En promedio, el hurto afecta únicamente un vehículo a la vez. Las personas más afectadas corresponden a aquellas con edad promedio de 40 años"
   ]
  },
  {
   "cell_type": "code",
   "execution_count": 164,
   "metadata": {},
   "outputs": [],
   "source": [
    "df_hurtos['Hora Militar'] = df_hurtos['Hora'].apply(lambda x: x[:2]).astype(int)"
   ]
  },
  {
   "cell_type": "code",
   "execution_count": 165,
   "metadata": {},
   "outputs": [
    {
     "output_type": "execute_result",
     "data": {
      "text/plain": "0     3300\n21    2471\n20    2452\n22    2164\n19    2117\n10    1778\n23    1695\n18    1549\n14    1497\n11    1474\n15    1423\n16    1359\n17    1330\n8     1313\n9     1274\n13    1244\n12    1227\n6     1184\n1     1077\n7     1073\n5      933\n2      932\n3      903\n4      777\nName: Hora Militar, dtype: int64"
     },
     "metadata": {},
     "execution_count": 165
    }
   ],
   "source": [
    "df_hurtos['Hora Militar'].value_counts()"
   ]
  }
 ]
}