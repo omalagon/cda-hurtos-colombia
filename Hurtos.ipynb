{
 "metadata": {
  "language_info": {
   "codemirror_mode": {
    "name": "ipython",
    "version": 3
   },
   "file_extension": ".py",
   "mimetype": "text/x-python",
   "name": "python",
   "nbconvert_exporter": "python",
   "pygments_lexer": "ipython3",
   "version": "3.7.4-final"
  },
  "orig_nbformat": 2,
  "kernelspec": {
   "name": "Python 3.7.4 64-bit ('base': conda)",
   "display_name": "Python 3.7.4 64-bit ('base': conda)",
   "metadata": {
    "interpreter": {
     "hash": "e067a7f66325f3c2478c4fb8c2f24a914ed805d2ad1da144114783e54a83c2f6"
    }
   }
  }
 },
 "nbformat": 4,
 "nbformat_minor": 2,
 "cells": [
  {
   "cell_type": "code",
   "execution_count": 27,
   "metadata": {
    "tags": []
   },
   "outputs": [
    {
     "output_type": "stream",
     "name": "stdout",
     "text": [
      "Requirement already satisfied: pandas in /Users/omalagonm/opt/anaconda3/lib/python3.7/site-packages (1.0.5)\n",
      "Requirement already satisfied: python-dateutil>=2.6.1 in /Users/omalagonm/opt/anaconda3/lib/python3.7/site-packages (from pandas) (2.8.1)\n",
      "Requirement already satisfied: numpy>=1.13.3 in /Users/omalagonm/opt/anaconda3/lib/python3.7/site-packages (from pandas) (1.19.0)\n",
      "Requirement already satisfied: pytz>=2017.2 in /Users/omalagonm/opt/anaconda3/lib/python3.7/site-packages (from pandas) (2020.1)\n",
      "Requirement already satisfied: six>=1.5 in /Users/omalagonm/opt/anaconda3/lib/python3.7/site-packages (from python-dateutil>=2.6.1->pandas) (1.15.0)\n",
      "\u001b[33mWARNING: You are using pip version 20.1.1; however, version 20.2.4 is available.\n",
      "You should consider upgrading via the '/Users/omalagonm/opt/anaconda3/bin/python -m pip install --upgrade pip' command.\u001b[0m\n",
      "Requirement already satisfied: xlrd in /Users/omalagonm/opt/anaconda3/lib/python3.7/site-packages (1.2.0)\n",
      "\u001b[33mWARNING: You are using pip version 20.1.1; however, version 20.2.4 is available.\n",
      "You should consider upgrading via the '/Users/omalagonm/opt/anaconda3/bin/python -m pip install --upgrade pip' command.\u001b[0m\n",
      "Requirement already satisfied: pandas-profiling==2.8.0 in /Users/omalagonm/opt/anaconda3/lib/python3.7/site-packages (2.8.0)\n",
      "Requirement already satisfied: jinja2>=2.11.1 in /Users/omalagonm/opt/anaconda3/lib/python3.7/site-packages (from pandas-profiling==2.8.0) (2.11.2)\n",
      "Requirement already satisfied: requests>=2.23.0 in /Users/omalagonm/opt/anaconda3/lib/python3.7/site-packages (from pandas-profiling==2.8.0) (2.23.0)\n",
      "Requirement already satisfied: htmlmin>=0.1.12 in /Users/omalagonm/opt/anaconda3/lib/python3.7/site-packages (from pandas-profiling==2.8.0) (0.1.12)\n",
      "Requirement already satisfied: joblib in /Users/omalagonm/opt/anaconda3/lib/python3.7/site-packages (from pandas-profiling==2.8.0) (0.14.1)\n",
      "Requirement already satisfied: matplotlib>=3.2.0 in /Users/omalagonm/opt/anaconda3/lib/python3.7/site-packages (from pandas-profiling==2.8.0) (3.2.2)\n",
      "Requirement already satisfied: phik>=0.9.10 in /Users/omalagonm/opt/anaconda3/lib/python3.7/site-packages (from pandas-profiling==2.8.0) (0.9.11)\n",
      "Requirement already satisfied: visions[type_image_path]==0.4.4 in /Users/omalagonm/opt/anaconda3/lib/python3.7/site-packages (from pandas-profiling==2.8.0) (0.4.4)\n",
      "Requirement already satisfied: tangled-up-in-unicode>=0.0.6 in /Users/omalagonm/opt/anaconda3/lib/python3.7/site-packages (from pandas-profiling==2.8.0) (0.0.6)\n",
      "Requirement already satisfied: scipy>=1.4.1 in /Users/omalagonm/opt/anaconda3/lib/python3.7/site-packages (from pandas-profiling==2.8.0) (1.4.1)\n",
      "Requirement already satisfied: missingno>=0.4.2 in /Users/omalagonm/opt/anaconda3/lib/python3.7/site-packages (from pandas-profiling==2.8.0) (0.4.2)\n",
      "Requirement already satisfied: astropy>=4.0 in /Users/omalagonm/opt/anaconda3/lib/python3.7/site-packages (from pandas-profiling==2.8.0) (4.0.1.post1)\n",
      "Requirement already satisfied: confuse>=1.0.0 in /Users/omalagonm/opt/anaconda3/lib/python3.7/site-packages (from pandas-profiling==2.8.0) (1.1.0)\n",
      "Requirement already satisfied: tqdm>=4.43.0 in /Users/omalagonm/opt/anaconda3/lib/python3.7/site-packages (from pandas-profiling==2.8.0) (4.45.0)\n",
      "Requirement already satisfied: pandas!=1.0.0,!=1.0.1,!=1.0.2,>=0.25.3 in /Users/omalagonm/opt/anaconda3/lib/python3.7/site-packages (from pandas-profiling==2.8.0) (1.0.5)\n",
      "Requirement already satisfied: ipywidgets>=7.5.1 in /Users/omalagonm/opt/anaconda3/lib/python3.7/site-packages (from pandas-profiling==2.8.0) (7.5.1)\n",
      "Requirement already satisfied: numpy>=1.16.0 in /Users/omalagonm/opt/anaconda3/lib/python3.7/site-packages (from pandas-profiling==2.8.0) (1.19.0)\n",
      "Requirement already satisfied: MarkupSafe>=0.23 in /Users/omalagonm/opt/anaconda3/lib/python3.7/site-packages (from jinja2>=2.11.1->pandas-profiling==2.8.0) (1.1.1)\n",
      "Requirement already satisfied: urllib3!=1.25.0,!=1.25.1,<1.26,>=1.21.1 in /Users/omalagonm/opt/anaconda3/lib/python3.7/site-packages (from requests>=2.23.0->pandas-profiling==2.8.0) (1.25.9)\n",
      "Requirement already satisfied: idna<3,>=2.5 in /Users/omalagonm/opt/anaconda3/lib/python3.7/site-packages (from requests>=2.23.0->pandas-profiling==2.8.0) (2.8)\n",
      "Requirement already satisfied: chardet<4,>=3.0.2 in /Users/omalagonm/opt/anaconda3/lib/python3.7/site-packages (from requests>=2.23.0->pandas-profiling==2.8.0) (3.0.4)\n",
      "Requirement already satisfied: certifi>=2017.4.17 in /Users/omalagonm/opt/anaconda3/lib/python3.7/site-packages (from requests>=2.23.0->pandas-profiling==2.8.0) (2020.6.20)\n",
      "Requirement already satisfied: kiwisolver>=1.0.1 in /Users/omalagonm/opt/anaconda3/lib/python3.7/site-packages (from matplotlib>=3.2.0->pandas-profiling==2.8.0) (1.1.0)\n",
      "Requirement already satisfied: cycler>=0.10 in /Users/omalagonm/opt/anaconda3/lib/python3.7/site-packages (from matplotlib>=3.2.0->pandas-profiling==2.8.0) (0.10.0)\n",
      "Requirement already satisfied: pyparsing!=2.0.4,!=2.1.2,!=2.1.6,>=2.0.1 in /Users/omalagonm/opt/anaconda3/lib/python3.7/site-packages (from matplotlib>=3.2.0->pandas-profiling==2.8.0) (2.4.2)\n",
      "Requirement already satisfied: python-dateutil>=2.1 in /Users/omalagonm/opt/anaconda3/lib/python3.7/site-packages (from matplotlib>=3.2.0->pandas-profiling==2.8.0) (2.8.1)\n",
      "Requirement already satisfied: numba>=0.38.1 in /Users/omalagonm/opt/anaconda3/lib/python3.7/site-packages (from phik>=0.9.10->pandas-profiling==2.8.0) (0.45.1)\n",
      "Requirement already satisfied: attrs>=19.3.0 in /Users/omalagonm/opt/anaconda3/lib/python3.7/site-packages (from visions[type_image_path]==0.4.4->pandas-profiling==2.8.0) (19.3.0)\n",
      "Requirement already satisfied: networkx>=2.4 in /Users/omalagonm/opt/anaconda3/lib/python3.7/site-packages (from visions[type_image_path]==0.4.4->pandas-profiling==2.8.0) (2.4)\n",
      "Requirement already satisfied: imagehash; extra == \"type_image_path\" in /Users/omalagonm/opt/anaconda3/lib/python3.7/site-packages (from visions[type_image_path]==0.4.4->pandas-profiling==2.8.0) (4.0)\n",
      "Requirement already satisfied: Pillow; extra == \"type_image_path\" in /Users/omalagonm/opt/anaconda3/lib/python3.7/site-packages (from visions[type_image_path]==0.4.4->pandas-profiling==2.8.0) (6.2.0)\n",
      "Requirement already satisfied: seaborn in /Users/omalagonm/opt/anaconda3/lib/python3.7/site-packages (from missingno>=0.4.2->pandas-profiling==2.8.0) (0.10.1)\n",
      "Requirement already satisfied: pyyaml in /Users/omalagonm/opt/anaconda3/lib/python3.7/site-packages (from confuse>=1.0.0->pandas-profiling==2.8.0) (5.1.2)\n",
      "Requirement already satisfied: pytz>=2017.2 in /Users/omalagonm/opt/anaconda3/lib/python3.7/site-packages (from pandas!=1.0.0,!=1.0.1,!=1.0.2,>=0.25.3->pandas-profiling==2.8.0) (2020.1)\n",
      "Requirement already satisfied: ipykernel>=4.5.1 in /Users/omalagonm/opt/anaconda3/lib/python3.7/site-packages (from ipywidgets>=7.5.1->pandas-profiling==2.8.0) (5.1.2)\n",
      "Requirement already satisfied: widgetsnbextension~=3.5.0 in /Users/omalagonm/opt/anaconda3/lib/python3.7/site-packages (from ipywidgets>=7.5.1->pandas-profiling==2.8.0) (3.5.1)\n",
      "Requirement already satisfied: ipython>=4.0.0; python_version >= \"3.3\" in /Users/omalagonm/opt/anaconda3/lib/python3.7/site-packages (from ipywidgets>=7.5.1->pandas-profiling==2.8.0) (7.8.0)\n",
      "Requirement already satisfied: traitlets>=4.3.1 in /Users/omalagonm/opt/anaconda3/lib/python3.7/site-packages (from ipywidgets>=7.5.1->pandas-profiling==2.8.0) (4.3.3)\n",
      "Requirement already satisfied: nbformat>=4.2.0 in /Users/omalagonm/opt/anaconda3/lib/python3.7/site-packages (from ipywidgets>=7.5.1->pandas-profiling==2.8.0) (4.4.0)\n",
      "Requirement already satisfied: setuptools in /Users/omalagonm/opt/anaconda3/lib/python3.7/site-packages (from kiwisolver>=1.0.1->matplotlib>=3.2.0->pandas-profiling==2.8.0) (41.4.0)\n",
      "Requirement already satisfied: six in /Users/omalagonm/opt/anaconda3/lib/python3.7/site-packages (from cycler>=0.10->matplotlib>=3.2.0->pandas-profiling==2.8.0) (1.15.0)\n",
      "Requirement already satisfied: llvmlite>=0.29.0dev0 in /Users/omalagonm/opt/anaconda3/lib/python3.7/site-packages (from numba>=0.38.1->phik>=0.9.10->pandas-profiling==2.8.0) (0.29.0)\n",
      "Requirement already satisfied: decorator>=4.3.0 in /Users/omalagonm/opt/anaconda3/lib/python3.7/site-packages (from networkx>=2.4->visions[type_image_path]==0.4.4->pandas-profiling==2.8.0) (4.4.0)\n",
      "Requirement already satisfied: pywavelets in /Users/omalagonm/opt/anaconda3/lib/python3.7/site-packages (from imagehash; extra == \"type_image_path\"->visions[type_image_path]==0.4.4->pandas-profiling==2.8.0) (1.0.3)\n",
      "Requirement already satisfied: jupyter-client in /Users/omalagonm/opt/anaconda3/lib/python3.7/site-packages (from ipykernel>=4.5.1->ipywidgets>=7.5.1->pandas-profiling==2.8.0) (5.3.3)\n",
      "Requirement already satisfied: tornado>=4.2 in /Users/omalagonm/opt/anaconda3/lib/python3.7/site-packages (from ipykernel>=4.5.1->ipywidgets>=7.5.1->pandas-profiling==2.8.0) (6.0.3)\n",
      "Requirement already satisfied: notebook>=4.4.1 in /Users/omalagonm/opt/anaconda3/lib/python3.7/site-packages (from widgetsnbextension~=3.5.0->ipywidgets>=7.5.1->pandas-profiling==2.8.0) (6.0.1)\n",
      "Requirement already satisfied: appnope; sys_platform == \"darwin\" in /Users/omalagonm/opt/anaconda3/lib/python3.7/site-packages (from ipython>=4.0.0; python_version >= \"3.3\"->ipywidgets>=7.5.1->pandas-profiling==2.8.0) (0.1.0)\n",
      "Requirement already satisfied: pickleshare in /Users/omalagonm/opt/anaconda3/lib/python3.7/site-packages (from ipython>=4.0.0; python_version >= \"3.3\"->ipywidgets>=7.5.1->pandas-profiling==2.8.0) (0.7.5)\n",
      "Requirement already satisfied: jedi>=0.10 in /Users/omalagonm/opt/anaconda3/lib/python3.7/site-packages (from ipython>=4.0.0; python_version >= \"3.3\"->ipywidgets>=7.5.1->pandas-profiling==2.8.0) (0.15.1)\n",
      "Requirement already satisfied: pygments in /Users/omalagonm/opt/anaconda3/lib/python3.7/site-packages (from ipython>=4.0.0; python_version >= \"3.3\"->ipywidgets>=7.5.1->pandas-profiling==2.8.0) (2.4.2)\n",
      "Requirement already satisfied: pexpect; sys_platform != \"win32\" in /Users/omalagonm/opt/anaconda3/lib/python3.7/site-packages (from ipython>=4.0.0; python_version >= \"3.3\"->ipywidgets>=7.5.1->pandas-profiling==2.8.0) (4.7.0)\n",
      "Requirement already satisfied: backcall in /Users/omalagonm/opt/anaconda3/lib/python3.7/site-packages (from ipython>=4.0.0; python_version >= \"3.3\"->ipywidgets>=7.5.1->pandas-profiling==2.8.0) (0.1.0)\n",
      "Requirement already satisfied: prompt-toolkit<2.1.0,>=2.0.0 in /Users/omalagonm/opt/anaconda3/lib/python3.7/site-packages (from ipython>=4.0.0; python_version >= \"3.3\"->ipywidgets>=7.5.1->pandas-profiling==2.8.0) (2.0.10)\n",
      "Requirement already satisfied: ipython-genutils in /Users/omalagonm/opt/anaconda3/lib/python3.7/site-packages (from traitlets>=4.3.1->ipywidgets>=7.5.1->pandas-profiling==2.8.0) (0.2.0)\n",
      "Requirement already satisfied: jupyter-core in /Users/omalagonm/opt/anaconda3/lib/python3.7/site-packages (from nbformat>=4.2.0->ipywidgets>=7.5.1->pandas-profiling==2.8.0) (4.5.0)\n",
      "Requirement already satisfied: jsonschema!=2.5.0,>=2.4 in /Users/omalagonm/opt/anaconda3/lib/python3.7/site-packages (from nbformat>=4.2.0->ipywidgets>=7.5.1->pandas-profiling==2.8.0) (3.0.2)\n",
      "Requirement already satisfied: pyzmq>=13 in /Users/omalagonm/opt/anaconda3/lib/python3.7/site-packages (from jupyter-client->ipykernel>=4.5.1->ipywidgets>=7.5.1->pandas-profiling==2.8.0) (18.1.0)\n",
      "Requirement already satisfied: Send2Trash in /Users/omalagonm/opt/anaconda3/lib/python3.7/site-packages (from notebook>=4.4.1->widgetsnbextension~=3.5.0->ipywidgets>=7.5.1->pandas-profiling==2.8.0) (1.5.0)\n",
      "Requirement already satisfied: prometheus-client in /Users/omalagonm/opt/anaconda3/lib/python3.7/site-packages (from notebook>=4.4.1->widgetsnbextension~=3.5.0->ipywidgets>=7.5.1->pandas-profiling==2.8.0) (0.7.1)\n",
      "Requirement already satisfied: terminado>=0.8.1 in /Users/omalagonm/opt/anaconda3/lib/python3.7/site-packages (from notebook>=4.4.1->widgetsnbextension~=3.5.0->ipywidgets>=7.5.1->pandas-profiling==2.8.0) (0.8.2)\n",
      "Requirement already satisfied: nbconvert in /Users/omalagonm/opt/anaconda3/lib/python3.7/site-packages (from notebook>=4.4.1->widgetsnbextension~=3.5.0->ipywidgets>=7.5.1->pandas-profiling==2.8.0) (5.6.0)\n",
      "Requirement already satisfied: parso>=0.5.0 in /Users/omalagonm/opt/anaconda3/lib/python3.7/site-packages (from jedi>=0.10->ipython>=4.0.0; python_version >= \"3.3\"->ipywidgets>=7.5.1->pandas-profiling==2.8.0) (0.5.1)\n",
      "Requirement already satisfied: ptyprocess>=0.5 in /Users/omalagonm/opt/anaconda3/lib/python3.7/site-packages (from pexpect; sys_platform != \"win32\"->ipython>=4.0.0; python_version >= \"3.3\"->ipywidgets>=7.5.1->pandas-profiling==2.8.0) (0.6.0)\n",
      "Requirement already satisfied: wcwidth in /Users/omalagonm/opt/anaconda3/lib/python3.7/site-packages (from prompt-toolkit<2.1.0,>=2.0.0->ipython>=4.0.0; python_version >= \"3.3\"->ipywidgets>=7.5.1->pandas-profiling==2.8.0) (0.1.7)\n",
      "Requirement already satisfied: pyrsistent>=0.14.0 in /Users/omalagonm/opt/anaconda3/lib/python3.7/site-packages (from jsonschema!=2.5.0,>=2.4->nbformat>=4.2.0->ipywidgets>=7.5.1->pandas-profiling==2.8.0) (0.15.4)\n",
      "Requirement already satisfied: pandocfilters>=1.4.1 in /Users/omalagonm/opt/anaconda3/lib/python3.7/site-packages (from nbconvert->notebook>=4.4.1->widgetsnbextension~=3.5.0->ipywidgets>=7.5.1->pandas-profiling==2.8.0) (1.4.2)\n",
      "Requirement already satisfied: bleach in /Users/omalagonm/opt/anaconda3/lib/python3.7/site-packages (from nbconvert->notebook>=4.4.1->widgetsnbextension~=3.5.0->ipywidgets>=7.5.1->pandas-profiling==2.8.0) (3.1.0)\n",
      "Requirement already satisfied: entrypoints>=0.2.2 in /Users/omalagonm/opt/anaconda3/lib/python3.7/site-packages (from nbconvert->notebook>=4.4.1->widgetsnbextension~=3.5.0->ipywidgets>=7.5.1->pandas-profiling==2.8.0) (0.3)\n",
      "Requirement already satisfied: defusedxml in /Users/omalagonm/opt/anaconda3/lib/python3.7/site-packages (from nbconvert->notebook>=4.4.1->widgetsnbextension~=3.5.0->ipywidgets>=7.5.1->pandas-profiling==2.8.0) (0.6.0)\n",
      "Requirement already satisfied: testpath in /Users/omalagonm/opt/anaconda3/lib/python3.7/site-packages (from nbconvert->notebook>=4.4.1->widgetsnbextension~=3.5.0->ipywidgets>=7.5.1->pandas-profiling==2.8.0) (0.4.2)\n",
      "Requirement already satisfied: mistune<2,>=0.8.1 in /Users/omalagonm/opt/anaconda3/lib/python3.7/site-packages (from nbconvert->notebook>=4.4.1->widgetsnbextension~=3.5.0->ipywidgets>=7.5.1->pandas-profiling==2.8.0) (0.8.4)\n",
      "Requirement already satisfied: webencodings in /Users/omalagonm/opt/anaconda3/lib/python3.7/site-packages (from bleach->nbconvert->notebook>=4.4.1->widgetsnbextension~=3.5.0->ipywidgets>=7.5.1->pandas-profiling==2.8.0) (0.5.1)\n",
      "\u001b[33mWARNING: You are using pip version 20.1.1; however, version 20.2.4 is available.\n",
      "You should consider upgrading via the '/Users/omalagonm/opt/anaconda3/bin/python -m pip install --upgrade pip' command.\u001b[0m\n",
      "Requirement already satisfied: seaborn in /Users/omalagonm/opt/anaconda3/lib/python3.7/site-packages (0.10.1)\n",
      "Requirement already satisfied: scipy>=1.0.1 in /Users/omalagonm/opt/anaconda3/lib/python3.7/site-packages (from seaborn) (1.4.1)\n",
      "Requirement already satisfied: matplotlib>=2.1.2 in /Users/omalagonm/opt/anaconda3/lib/python3.7/site-packages (from seaborn) (3.2.2)\n",
      "Requirement already satisfied: pandas>=0.22.0 in /Users/omalagonm/opt/anaconda3/lib/python3.7/site-packages (from seaborn) (1.0.5)\n",
      "Requirement already satisfied: numpy>=1.13.3 in /Users/omalagonm/opt/anaconda3/lib/python3.7/site-packages (from seaborn) (1.19.0)\n",
      "Requirement already satisfied: pyparsing!=2.0.4,!=2.1.2,!=2.1.6,>=2.0.1 in /Users/omalagonm/opt/anaconda3/lib/python3.7/site-packages (from matplotlib>=2.1.2->seaborn) (2.4.2)\n",
      "Requirement already satisfied: cycler>=0.10 in /Users/omalagonm/opt/anaconda3/lib/python3.7/site-packages (from matplotlib>=2.1.2->seaborn) (0.10.0)\n",
      "Requirement already satisfied: python-dateutil>=2.1 in /Users/omalagonm/opt/anaconda3/lib/python3.7/site-packages (from matplotlib>=2.1.2->seaborn) (2.8.1)\n",
      "Requirement already satisfied: kiwisolver>=1.0.1 in /Users/omalagonm/opt/anaconda3/lib/python3.7/site-packages (from matplotlib>=2.1.2->seaborn) (1.1.0)\n",
      "Requirement already satisfied: pytz>=2017.2 in /Users/omalagonm/opt/anaconda3/lib/python3.7/site-packages (from pandas>=0.22.0->seaborn) (2020.1)\n",
      "Requirement already satisfied: six in /Users/omalagonm/opt/anaconda3/lib/python3.7/site-packages (from cycler>=0.10->matplotlib>=2.1.2->seaborn) (1.15.0)\n",
      "Requirement already satisfied: setuptools in /Users/omalagonm/opt/anaconda3/lib/python3.7/site-packages (from kiwisolver>=1.0.1->matplotlib>=2.1.2->seaborn) (41.4.0)\n",
      "\u001b[33mWARNING: You are using pip version 20.1.1; however, version 20.2.4 is available.\n",
      "You should consider upgrading via the '/Users/omalagonm/opt/anaconda3/bin/python -m pip install --upgrade pip' command.\u001b[0m\n"
     ]
    }
   ],
   "source": [
    "!pip install pandas\n",
    "!pip install xlrd\n",
    "!pip install 'pandas-profiling==2.8.0'\n",
    "!pip install seaborn"
   ]
  },
  {
   "cell_type": "code",
   "execution_count": 28,
   "metadata": {},
   "outputs": [],
   "source": [
    "import pandas as pd\n",
    "import seaborn as sns\n",
    "from pandas_profiling import ProfileReport\n",
    "from matplotlib import pyplot\n",
    "\n",
    "sns.set_style(style=\"whitegrid\")"
   ]
  },
  {
   "cell_type": "code",
   "execution_count": 29,
   "metadata": {},
   "outputs": [],
   "source": [
    "df_hurtos = pd.concat([\n",
    "    pd.read_excel('data/hurto-de-automotores-2017_0.xls', skiprows=9),\n",
    "    pd.read_excel('data/hurto-de-automotores-2018_0.xls', skiprows=8),\n",
    "    pd.read_excel('data/hurto-de-automotores-2018_1.xls', skiprows=9),\n",
    "    pd.read_excel('data/hurto-de-automotores-2019_0.xls', skiprows=8)\n",
    "])"
   ]
  },
  {
   "cell_type": "markdown",
   "metadata": {},
   "source": [
    "# Limpieza"
   ]
  },
  {
   "cell_type": "code",
   "execution_count": 30,
   "metadata": {
    "tags": []
   },
   "outputs": [],
   "source": [
    "# Correción de valores de edad y cantidad. \n",
    "# Edad -1 representa que no se conoce la edad del individuo\n",
    "# Cantidad 1000 se borra en un paso posterior.\n",
    "df_hurtos['Edad'] = df_hurtos['Edad'].fillna('-1')\n",
    "df_hurtos['Edad'] = df_hurtos['Edad'].astype(str)\n",
    "df_hurtos = df_hurtos[df_hurtos['Edad'] != '-']\n",
    "df_hurtos = df_hurtos[df_hurtos['Edad'] != '-1']\n",
    "\n",
    "# Corrección de tipos.\n",
    "cols_str = [\n",
    "    'Fecha','Hora', 'Departamento', 'Municipio', 'Día', 'Barrio', 'Zona', 'Clase de sitio', \n",
    "    'Arma empleada', 'Móvil Agresor', 'Móvil Victima', 'Sexo', 'Estado civil' ,\n",
    "    'País de nacimiento','Clase de empleado', 'Profesión', 'Escolaridad', 'Código DANE', 'CLASE',\n",
    "    'MARCA', 'LINEA', 'MODELO', 'COLOR']\n",
    "for col in cols_str:\n",
    "    df_hurtos[col] = df_hurtos[col].astype(str)\n",
    "\n",
    "df_hurtos['Edad'] = df_hurtos['Edad'].astype('int64')\n",
    "\n",
    "# Remoción de duplicados\n",
    "df_hurtos.drop_duplicates(inplace=True)\n",
    "\n",
    "# Remoción de valores atípicos/outliers. \n",
    "# 1. Constantes\n",
    "df_hurtos.drop(columns=['Cantidad', 'Profesión', 'Zona', 'Barrio', 'País de nacimiento'], inplace=True)\n",
    "# 2. Registros con edad mayor a 110\n",
    "df_hurtos = df_hurtos[df_hurtos['Edad'] < 110]\n",
    "\n",
    "# Creación de nuevas columnas\n",
    "df_hurtos['Fecha'] = df_hurtos['Fecha'].apply(lambda x: x[:11])\n",
    "df_hurtos['Mes'] = df_hurtos['Fecha'].apply(lambda x: x[5:7])\n",
    "\n",
    "# Categorización de la variable Hora\n",
    "def hora_to_cat(hora):\n",
    "    if hora == 'na':\n",
    "        return \"No_especificada\"\n",
    "    hora = int(hora)\n",
    "\n",
    "    if hora > 0 and hora <= 4:\n",
    "        return '(00-04]'\n",
    "    if hora > 4 and hora <= 8:\n",
    "        return '(04-08]'\n",
    "    if hora > 8 and hora <= 12:\n",
    "        return '(08-12]'\n",
    "    if hora > 12 and hora <= 16:\n",
    "        return '(12-16)'\n",
    "    if hora > 16 and hora <= 20:\n",
    "        return '(16-20]'\n",
    "    if hora == 0 or hora > 20:\n",
    "        return '(20-24]'\n",
    "df_hurtos['Hora_Cat'] = df_hurtos['Hora'].apply(lambda hora: hora_to_cat(hora[:2]))\n"
   ]
  },
  {
   "cell_type": "code",
   "execution_count": 31,
   "metadata": {},
   "outputs": [],
   "source": [
    "colores_dict = {\n",
    "    'ABANO': 'BLANCO', 'BEIGE': 'BLANCO', 'BLANCO': 'BLANCO', 'BLANCO Y VERDE': 'BLANCO', 'CHAMPAÑA': 'BLANCO', 'CREMA': 'BLANCO', 'MARFIL': 'BLANCO', 'PERLA': 'BLANCO',\n",
    "    'SAHARA': 'BLANCO', \n",
    "\n",
    "    'ACEITUNA': 'VERDE', 'BOSQUE': 'VERDE', 'JADE': 'VERDE', 'LIMON': 'VERDE', 'VERDE': 'VERDE', 'VERDE OSCURO': 'VERDE', \n",
    "\n",
    "    'BAMBOO': 'CAFE','CAFE': 'CAFE', 'CARAMELO': 'CAFE', 'HABANO': 'CAFE', 'MARRON': 'CAFE', 'PARDO LAGUNA': 'CAFE', 'ROBLE': 'CAFE', 'TABACO': 'CAFE', 'TERRANOVA': 'CAFE',\n",
    "\n",
    "    'ACERO': 'GRIS', 'CENIZA GRAFITO': 'GRIS', 'CROMADO': 'GRIS', 'ESTRATO DE PERLA':'GRIS', 'GRAFITO': 'GRIS', 'GRIS': 'GRIS', 'GRIS PLATINO': 'GRIS', 'PLATA': 'GRIS',\n",
    "    'PLATA NIQUEL': 'GRIS','PLATEADO': 'GRIS', 'PLATINO': 'GRIS', 'STRATO PLATA': 'GRIS', 'SILICE TORNADO': 'GRIS', 'TOLEDANO': 'GRIS',\n",
    "\n",
    "    'ACUARELA': 'AZUL', 'AZUL': 'AZUL', 'AZUL BAHIA': 'AZUL', 'AZUL BALTICO': 'AZUL', 'AZUL CIELO': 'AZUL', 'AZUL LAGUNA': 'AZUL', 'AZUL LISBOA' : 'AZUL', \n",
    "    'AZUL MEDIO': 'AZUL', 'AZUL Y BLANCO': 'AZUL', 'AZUL ZAFIRO': 'AZUL', 'CELESTE': 'AZUL', 'CIELO': 'AZUL', 'TURQUEZA': 'AZUL', 'ZAFIRO': 'AZUL',\n",
    "\n",
    "    'BRONCE': 'NARANJA', 'COBRE': 'NARANJA', 'FUEGO': 'NARANJA', 'LADRILLO': 'NARANJA', 'MANDARINA': 'NARANJA', 'NARANJA': 'NARANJA', 'OTOÑAL': 'NARANJA', \n",
    "    'ZAPOTE': 'NARANJA',\n",
    "\n",
    "    'BRUMA': 'MORADO', 'FIRMAMENTO': 'MORADO', 'IMPERIAL': 'MORADO', 'LILA': 'MORADO', 'MORADO CORDOBES': 'MORADO', 'VINOTINTO': 'MORADO', 'VIOLETA': 'MORADO', \n",
    "\n",
    "    'CEREZA': 'ROJO', 'ROJO': 'ROJO','ROJO - BLANCO': 'ROJO','ROJO-MARRON-ROYAL': 'ROJO','ROJO-VERDE': 'ROJO', 'TERRACOTA': 'ROJO',\n",
    "\n",
    "    'NEGRO': 'NEGRO', 'NEGRO GRAFITO': 'NEGRO', 'NEGRO Y BLANCO': 'NEGRO', 'NEGRO Y NIQUEL': 'NEGRO',  \n",
    "\n",
    "    'CINZA EJECUTIVO': 'OTRO', 'CLASICO': 'OTRO', 'COLONIAL': 'OTRO', 'METALIZADO': 'OTRO', 'NO REPORTADO': 'OTRO', 'PRIMER': 'OTRO', 'QUARZO': 'OTRO', \n",
    "    'SAFARI': 'OTRO', 'VARIOS COLORES': 'OTRO', '-': 'OTRO',\n",
    "\n",
    "    'AMARILLO': 'AMARILLO', 'AMARILLO TRANSITO': 'AMARILLO', 'AMARILLO Y BLANCO': 'AMARILLO', 'AMARILLO Y NEGRO': 'AMARILLO', 'DORADO': 'AMARILLO', \n",
    "    'MOSTAZA': 'AMARILLO', 'ORO': 'AMARILLO'\n",
    "}"
   ]
  },
  {
   "cell_type": "code",
   "execution_count": 32,
   "metadata": {},
   "outputs": [],
   "source": [
    "# Agrupación de colores\n",
    "df_hurtos['COLOR'] = df_hurtos['COLOR'].apply(lambda c: colores_dict[c])"
   ]
  },
  {
   "cell_type": "code",
   "execution_count": 33,
   "metadata": {
    "tags": []
   },
   "outputs": [
    {
     "output_type": "stream",
     "name": "stderr",
     "text": [
      "Summarize dataset: 100%|██████████| 37/37 [00:04<00:00,  8.17it/s, Completed]\n",
      "Generate report structure: 100%|██████████| 1/1 [00:04<00:00,  4.34s/it]\n",
      "Render HTML: 100%|██████████| 1/1 [00:00<00:00,  1.91it/s]\n",
      "Export report to file: 100%|██████████| 1/1 [00:00<00:00, 295.87it/s]\n"
     ]
    }
   ],
   "source": [
    "report = ProfileReport(df_hurtos)\n",
    "report.to_file('Perfilamiento de hurto a vehículos.html')"
   ]
  }
 ]
}